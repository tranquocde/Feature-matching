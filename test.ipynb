{
 "cells": [
  {
   "cell_type": "code",
   "execution_count": 1,
   "metadata": {},
   "outputs": [
    {
     "name": "stdout",
     "output_type": "stream",
     "text": [
      "[0.         0.         0.         0.         0.         0.37945204\n",
      " 0.         0.         0.         0.         0.         0.\n",
      " 0.         0.37945204 0.         0.         0.         0.\n",
      " 0.         0.         0.         0.37945204 0.         0.\n",
      " 0.         0.         0.         0.         0.         0.32861511\n",
      " 0.         0.49890103 0.         0.         0.         0.\n",
      " 0.         0.37945204 0.         0.         0.         0.\n",
      " 0.         0.         0.         0.37945204 0.         0.\n",
      " 0.         0.         0.         0.         0.         0.37945204\n",
      " 0.         0.         0.         0.         0.         0.\n",
      " 0.         0.32861511 0.         0.54743281 0.         0.\n",
      " 0.         0.         0.         0.37945204 0.         0.\n",
      " 0.         0.         0.         0.         0.         0.37945204\n",
      " 0.         0.         0.         0.         0.         0.\n",
      " 0.         0.37945204 0.         0.         0.         0.\n",
      " 0.         0.         0.         0.32861511 0.         0.59203022\n",
      " 0.         0.         0.49890103 0.         0.         0.32861532\n",
      " 0.         0.         0.         0.         0.54743281 0.\n",
      " 0.         0.32861532 0.         0.         0.         0.\n",
      " 0.59203022 0.         0.         0.32861532 0.         0.\n",
      " 0.33202056 0.         0.54427702 0.         0.         0.28458921\n",
      " 0.         0.54427704]\n"
     ]
    }
   ],
   "source": [
    "from tests.test_part4_sift_descriptor import test_get_SIFT_descriptors\n",
    "test_get_SIFT_descriptors()"
   ]
  },
  {
   "cell_type": "code",
   "execution_count": 3,
   "metadata": {},
   "outputs": [
    {
     "data": {
      "text/plain": [
       "array([-7, -5, -3, -1,  1,  3,  5,  7])"
      ]
     },
     "execution_count": 3,
     "metadata": {},
     "output_type": "execute_result"
    }
   ],
   "source": [
    "import numpy as np\n",
    "bins = np.arange(-7, 9, 2)\n",
    "bins"
   ]
  },
  {
   "cell_type": "code",
   "execution_count": null,
   "metadata": {},
   "outputs": [],
   "source": []
  }
 ],
 "metadata": {
  "kernelspec": {
   "display_name": "base",
   "language": "python",
   "name": "python3"
  },
  "language_info": {
   "codemirror_mode": {
    "name": "ipython",
    "version": 3
   },
   "file_extension": ".py",
   "mimetype": "text/x-python",
   "name": "python",
   "nbconvert_exporter": "python",
   "pygments_lexer": "ipython3",
   "version": "3.10.8"
  },
  "orig_nbformat": 4
 },
 "nbformat": 4,
 "nbformat_minor": 2
}
